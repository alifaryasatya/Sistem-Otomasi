{
  "nbformat": 4,
  "nbformat_minor": 0,
  "metadata": {
    "colab": {
      "provenance": []
    },
    "kernelspec": {
      "name": "python3",
      "display_name": "Python 3"
    },
    "language_info": {
      "name": "python"
    }
  },
  "cells": [
    {
      "cell_type": "code",
      "execution_count": 3,
      "metadata": {
        "colab": {
          "base_uri": "https://localhost:8080/"
        },
        "id": "GJppqs2P-tJD",
        "outputId": "e5775a1e-7de9-4c10-aea0-19600c8e2cab"
      },
      "outputs": [
        {
          "output_type": "stream",
          "name": "stdout",
          "text": [
            "Persamaan Listrik: Eq(V, I*R + Kb*omega)\n",
            "Persamaan Mekanik: Eq(B*omega, I*Kt - Tm)\n",
            "Transformasi Laplace - Persamaan Listrik: Eq(V, Kb*omega + R*I(s))\n",
            "Transformasi Laplace - Persamaan Mekanik: Eq(B*Omega(s), I*Kt - Tm)\n",
            "Fungsi Alih G(s) = Omega(s) / V(s): (I*Kt - Tm)/(B*V)\n"
          ]
        }
      ],
      "source": [
        "import sympy as sp\n",
        "\n",
        "# Definisi variabel simbolik\n",
        "t, s = sp.symbols('t s')\n",
        "V, I, R, L, Kb, Kt, J, B, omega, Tm = sp.symbols('V I R L Kb Kt J B omega Tm')\n",
        "\n",
        "# 1. Model Matematika Motor DC\n",
        "# Persamaan listrik (Hukum Kirchoff)\n",
        "eq1 = sp.Eq(V, R*I + L*sp.diff(I, t) + Kb*omega)\n",
        "\n",
        "# Persamaan mekanik (Dinamika Rotasi)\n",
        "eq2 = sp.Eq(J*sp.diff(omega, t) + B*omega, Kt*I - Tm)\n",
        "\n",
        "# 2. Transformasi Laplace\n",
        "I_s, Omega_s = sp.Function('I')(s), sp.Function('Omega')(s)\n",
        "eq1_s = eq1.subs({I: I_s, sp.diff(I, t): s*I_s})\n",
        "eq2_s = eq2.subs({omega: Omega_s, sp.diff(omega, t): s*Omega_s})\n",
        "\n",
        "# 3. Fungsi Alih (Omega(s) / V(s))\n",
        "I_s_expr = sp.solve(eq1_s, I_s)\n",
        "if I_s_expr:\n",
        "    I_s_expr = I_s_expr[0]  # Ambil solusi pertama jika ada\n",
        "    Omega_s_expr = sp.solve(eq2_s.subs(I_s, I_s_expr), Omega_s)\n",
        "    if Omega_s_expr:\n",
        "        Omega_s_expr = Omega_s_expr[0]  # Ambil solusi pertama jika ada\n",
        "        G_s = sp.simplify(Omega_s_expr / V)\n",
        "    else:\n",
        "        G_s = \"Tidak ada solusi untuk Omega(s)\"\n",
        "else:\n",
        "    G_s = \"Tidak ada solusi untuk I(s)\"\n",
        "\n",
        "# Menampilkan hasil\n",
        "print(\"Persamaan Listrik:\", eq1)\n",
        "print(\"Persamaan Mekanik:\", eq2)\n",
        "print(\"Transformasi Laplace - Persamaan Listrik:\", eq1_s)\n",
        "print(\"Transformasi Laplace - Persamaan Mekanik:\", eq2_s)\n",
        "print(\"Fungsi Alih G(s) = Omega(s) / V(s):\", G_s)"
      ]
    }
  ]
}